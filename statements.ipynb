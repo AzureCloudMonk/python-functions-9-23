{
  "nbformat": 4,
  "nbformat_minor": 0,
  "metadata": {
    "colab": {
      "name": "statements.ipynb",
      "provenance": [],
      "authorship_tag": "ABX9TyO172/waydgyJLbmxSq3AwY",
      "include_colab_link": true
    },
    "kernelspec": {
      "name": "python3",
      "display_name": "Python 3"
    },
    "language_info": {
      "name": "python"
    }
  },
  "cells": [
    {
      "cell_type": "markdown",
      "metadata": {
        "id": "view-in-github",
        "colab_type": "text"
      },
      "source": [
        "<a href=\"https://colab.research.google.com/github/noahgift/python-functions-9-23/blob/main/statements.ipynb\" target=\"_parent\"><img src=\"https://colab.research.google.com/assets/colab-badge.svg\" alt=\"Open In Colab\"/></a>"
      ]
    },
    {
      "cell_type": "markdown",
      "metadata": {
        "id": "dKN5wCIUy_Ea"
      },
      "source": [
        "# Lesson One:  Statements"
      ]
    },
    {
      "cell_type": "markdown",
      "metadata": {
        "id": "NIJdECMNy1uI"
      },
      "source": [
        "## Statements"
      ]
    },
    {
      "cell_type": "markdown",
      "metadata": {
        "id": "eSM9Al7z0s5T"
      },
      "source": [
        "### Hello World Examples"
      ]
    },
    {
      "cell_type": "code",
      "metadata": {
        "colab": {
          "base_uri": "https://localhost:8080/"
        },
        "id": "PcOmjgXPx9rn",
        "outputId": "e8f83b8d-9f93-42ac-f906-700c2a35fdc0"
      },
      "source": [
        "print(\"hello world\")"
      ],
      "execution_count": 1,
      "outputs": [
        {
          "output_type": "stream",
          "name": "stdout",
          "text": [
            "hello world\n"
          ]
        }
      ]
    },
    {
      "cell_type": "code",
      "metadata": {
        "id": "EmeF2g6szNpC"
      },
      "source": [
        "var = \"Apple\""
      ],
      "execution_count": 2,
      "outputs": []
    },
    {
      "cell_type": "code",
      "metadata": {
        "colab": {
          "base_uri": "https://localhost:8080/"
        },
        "id": "odABgW9SzrkS",
        "outputId": "df1b4662-7617-412a-b18f-7da9491e8f75"
      },
      "source": [
        "print(f\"This is a good fruit to eat in the winter {var}\")"
      ],
      "execution_count": 3,
      "outputs": [
        {
          "output_type": "stream",
          "name": "stdout",
          "text": [
            "This is a good fruit to eat in the winter Apple\n"
          ]
        }
      ]
    },
    {
      "cell_type": "code",
      "metadata": {
        "id": "ZbQg0cUXz3nN"
      },
      "source": [
        "num = 100"
      ],
      "execution_count": 4,
      "outputs": []
    },
    {
      "cell_type": "code",
      "metadata": {
        "colab": {
          "base_uri": "https://localhost:8080/"
        },
        "id": "PDW9-D7H0Crj",
        "outputId": "f8f4c551-e7e1-4ea7-d5df-659f804e573f"
      },
      "source": [
        "type(num)"
      ],
      "execution_count": 5,
      "outputs": [
        {
          "output_type": "execute_result",
          "data": {
            "text/plain": [
              "int"
            ]
          },
          "metadata": {},
          "execution_count": 5
        }
      ]
    },
    {
      "cell_type": "code",
      "metadata": {
        "colab": {
          "base_uri": "https://localhost:8080/"
        },
        "id": "PMiwUHY50N_P",
        "outputId": "595947fd-000b-4bbc-ae76-432a8a186d57"
      },
      "source": [
        "print(f\"The amount of money I like in my wallet is {num} dollars\")"
      ],
      "execution_count": 6,
      "outputs": [
        {
          "output_type": "stream",
          "name": "stdout",
          "text": [
            "The amount of money I like in my wallet is 100 dollars\n"
          ]
        }
      ]
    },
    {
      "cell_type": "code",
      "metadata": {
        "id": "_NI6NNWP0ep0"
      },
      "source": [
        ""
      ],
      "execution_count": null,
      "outputs": []
    },
    {
      "cell_type": "markdown",
      "metadata": {
        "id": "26vfOgSz1H3l"
      },
      "source": [
        "### Data Structures"
      ]
    },
    {
      "cell_type": "markdown",
      "metadata": {
        "id": "P6vr4dW61XEq"
      },
      "source": [
        "#### Variables"
      ]
    },
    {
      "cell_type": "code",
      "metadata": {
        "id": "ymLzOn0y1LqH"
      },
      "source": [
        "var = 1"
      ],
      "execution_count": 7,
      "outputs": []
    },
    {
      "cell_type": "markdown",
      "metadata": {
        "id": "46m9VRUy1Ze1"
      },
      "source": [
        "#### Lists"
      ]
    },
    {
      "cell_type": "code",
      "metadata": {
        "id": "uQ4A_Ofo1Ol4"
      },
      "source": [
        "mylist = []"
      ],
      "execution_count": 8,
      "outputs": []
    },
    {
      "cell_type": "code",
      "metadata": {
        "id": "xZXxeVC_1Sf-"
      },
      "source": [
        "mylist.append(1)"
      ],
      "execution_count": 9,
      "outputs": []
    },
    {
      "cell_type": "code",
      "metadata": {
        "id": "Jk2TVtvA1tdO"
      },
      "source": [
        "mylist.append(1)"
      ],
      "execution_count": 10,
      "outputs": []
    },
    {
      "cell_type": "code",
      "metadata": {
        "colab": {
          "base_uri": "https://localhost:8080/"
        },
        "id": "1CNhLTLC1yGU",
        "outputId": "9ffd3c87-2f20-40c7-cd71-a8dd57e6815e"
      },
      "source": [
        "# how many items\n",
        "len(mylist)"
      ],
      "execution_count": 12,
      "outputs": [
        {
          "output_type": "execute_result",
          "data": {
            "text/plain": [
              "2"
            ]
          },
          "metadata": {},
          "execution_count": 12
        }
      ]
    },
    {
      "cell_type": "code",
      "metadata": {
        "colab": {
          "base_uri": "https://localhost:8080/"
        },
        "id": "38mN4dsd12CF",
        "outputId": "ebb28a21-d548-4bb4-eca9-7bce7d36ce83"
      },
      "source": [
        "print(mylist)"
      ],
      "execution_count": 13,
      "outputs": [
        {
          "output_type": "stream",
          "name": "stdout",
          "text": [
            "[1, 1]\n"
          ]
        }
      ]
    },
    {
      "cell_type": "code",
      "metadata": {
        "id": "yY6bHsa116nn"
      },
      "source": [
        "# many things at once\n",
        "another_list = [1,2,3,4,5,6,7,8,9,10]\n",
        "\n"
      ],
      "execution_count": 14,
      "outputs": []
    },
    {
      "cell_type": "code",
      "metadata": {
        "colab": {
          "base_uri": "https://localhost:8080/"
        },
        "id": "pRUsKWmt2N0v",
        "outputId": "558c5f1d-17ec-4245-9a0b-219e580b7cdf"
      },
      "source": [
        "len(another_list)"
      ],
      "execution_count": 15,
      "outputs": [
        {
          "output_type": "execute_result",
          "data": {
            "text/plain": [
              "10"
            ]
          },
          "metadata": {},
          "execution_count": 15
        }
      ]
    },
    {
      "cell_type": "code",
      "metadata": {
        "colab": {
          "base_uri": "https://localhost:8080/"
        },
        "id": "kCKUno0_2QS3",
        "outputId": "0bb83418-344d-46b1-92db-b08735a8d0a4"
      },
      "source": [
        "# grab two items from the top\n",
        "another_list[0:2]"
      ],
      "execution_count": 17,
      "outputs": [
        {
          "output_type": "execute_result",
          "data": {
            "text/plain": [
              "[1, 2]"
            ]
          },
          "metadata": {},
          "execution_count": 17
        }
      ]
    },
    {
      "cell_type": "code",
      "metadata": {
        "colab": {
          "base_uri": "https://localhost:8080/"
        },
        "id": "s-_uehDm2W6X",
        "outputId": "40e41f17-7dd4-435b-dec4-8c780f643138"
      },
      "source": [
        "# things you can do\n",
        "another_list[-2]    #just this item\n"
      ],
      "execution_count": 25,
      "outputs": [
        {
          "output_type": "execute_result",
          "data": {
            "text/plain": [
              "[1, 2, 3, 4, 5, 6, 7, 8]"
            ]
          },
          "metadata": {},
          "execution_count": 25
        }
      ]
    },
    {
      "cell_type": "code",
      "metadata": {
        "colab": {
          "base_uri": "https://localhost:8080/"
        },
        "id": "aLfVLdH02ion",
        "outputId": "23d07281-1fef-49ba-c538-4e7e894997ed"
      },
      "source": [
        "# everything but last two\n",
        "another_list[:-2]   "
      ],
      "execution_count": 27,
      "outputs": [
        {
          "output_type": "execute_result",
          "data": {
            "text/plain": [
              "[1, 2, 3, 4, 5, 6, 7, 8]"
            ]
          },
          "metadata": {},
          "execution_count": 27
        }
      ]
    },
    {
      "cell_type": "code",
      "metadata": {
        "colab": {
          "base_uri": "https://localhost:8080/"
        },
        "id": "SViTKqyg28Nc",
        "outputId": "0d986cce-d958-4140-a889-a060ddd76495"
      },
      "source": [
        "# only last two\n",
        "another_list[-2:]   "
      ],
      "execution_count": 28,
      "outputs": [
        {
          "output_type": "execute_result",
          "data": {
            "text/plain": [
              "[9, 10]"
            ]
          },
          "metadata": {},
          "execution_count": 28
        }
      ]
    },
    {
      "cell_type": "code",
      "metadata": {
        "id": "dJsSWYx93CsS"
      },
      "source": [
        ""
      ],
      "execution_count": null,
      "outputs": []
    }
  ]
}