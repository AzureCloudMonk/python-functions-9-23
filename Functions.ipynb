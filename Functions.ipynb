{
  "nbformat": 4,
  "nbformat_minor": 0,
  "metadata": {
    "colab": {
      "name": "Functions.ipynb",
      "provenance": [],
      "authorship_tag": "ABX9TyN0rDqLBkpWK6Y1FoWU//qP",
      "include_colab_link": true
    },
    "kernelspec": {
      "name": "python3",
      "display_name": "Python 3"
    },
    "language_info": {
      "name": "python"
    }
  },
  "cells": [
    {
      "cell_type": "markdown",
      "metadata": {
        "id": "view-in-github",
        "colab_type": "text"
      },
      "source": [
        "<a href=\"https://colab.research.google.com/github/noahgift/python-functions-9-23/blob/main/Functions.ipynb\" target=\"_parent\"><img src=\"https://colab.research.google.com/assets/colab-badge.svg\" alt=\"Open In Colab\"/></a>"
      ]
    },
    {
      "cell_type": "markdown",
      "metadata": {
        "id": "R_jlz-fzBWLz"
      },
      "source": [
        "# Functions"
      ]
    },
    {
      "cell_type": "markdown",
      "metadata": {
        "id": "yAGmQXSgBzSs"
      },
      "source": [
        "## Functions Overiew"
      ]
    },
    {
      "cell_type": "markdown",
      "metadata": {
        "id": "7Hs7rEeKBY5O"
      },
      "source": [
        "This is an exploration of Function\n",
        "\n",
        "![functions-overview](https://user-images.githubusercontent.com/58792/132020390-db239278-a9a6-4791-9321-32077d7a5024.png)\n"
      ]
    },
    {
      "cell_type": "markdown",
      "metadata": {
        "id": "qGzTTAUvB2KJ"
      },
      "source": [
        "## Getting started with Functions"
      ]
    },
    {
      "cell_type": "code",
      "metadata": {
        "id": "zFm3AEIXBUHJ"
      },
      "source": [
        "def myfunc():pass   #this does nothing"
      ],
      "execution_count": 3,
      "outputs": []
    },
    {
      "cell_type": "code",
      "metadata": {
        "colab": {
          "base_uri": "https://localhost:8080/"
        },
        "id": "kxaWUn3sCFPN",
        "outputId": "a16c18a9-9ce3-4d2f-82ac-943b02500812"
      },
      "source": [
        "type(myfunc)"
      ],
      "execution_count": 2,
      "outputs": [
        {
          "output_type": "execute_result",
          "data": {
            "text/plain": [
              "function"
            ]
          },
          "metadata": {},
          "execution_count": 2
        }
      ]
    },
    {
      "cell_type": "markdown",
      "metadata": {
        "id": "keEHHkDTCd4e"
      },
      "source": [
        "### Function that takes input"
      ]
    },
    {
      "cell_type": "code",
      "metadata": {
        "id": "wEHGtlSECJcE"
      },
      "source": [
        "def accept(x):\n",
        "    print(f\"This was passed in: {x}\")"
      ],
      "execution_count": 4,
      "outputs": []
    },
    {
      "cell_type": "code",
      "metadata": {
        "colab": {
          "base_uri": "https://localhost:8080/"
        },
        "id": "qBvd2dtFCU9w",
        "outputId": "94c82019-6eb5-4376-a3a2-ad1ee2a874d5"
      },
      "source": [
        "accept(\"hello\")"
      ],
      "execution_count": 5,
      "outputs": [
        {
          "output_type": "stream",
          "name": "stdout",
          "text": [
            "This was passed in: hello\n"
          ]
        }
      ]
    },
    {
      "cell_type": "code",
      "metadata": {
        "colab": {
          "base_uri": "https://localhost:8080/"
        },
        "id": "nVbrUhaUCXky",
        "outputId": "6fa95427-421b-4d8c-ac66-ec1b327250fa"
      },
      "source": [
        "var = accept(\"hello\")\n",
        "type(var)"
      ],
      "execution_count": 6,
      "outputs": [
        {
          "output_type": "stream",
          "name": "stdout",
          "text": [
            "This was passed in: hello\n"
          ]
        },
        {
          "output_type": "execute_result",
          "data": {
            "text/plain": [
              "NoneType"
            ]
          },
          "metadata": {},
          "execution_count": 6
        }
      ]
    },
    {
      "cell_type": "code",
      "metadata": {
        "id": "_Z2zfaRbCmVx"
      },
      "source": [
        ""
      ],
      "execution_count": null,
      "outputs": []
    },
    {
      "cell_type": "markdown",
      "metadata": {
        "id": "g8x7dgaiCra3"
      },
      "source": [
        "### Function that returns values"
      ]
    },
    {
      "cell_type": "code",
      "metadata": {
        "id": "BnTV4sjJCtXv"
      },
      "source": [
        "def more(x):\n",
        "    print(f\"This was passed in: {x}\")\n",
        "    return x + 1"
      ],
      "execution_count": 7,
      "outputs": []
    },
    {
      "cell_type": "code",
      "metadata": {
        "colab": {
          "base_uri": "https://localhost:8080/"
        },
        "id": "U5E0y0dOCzmJ",
        "outputId": "c33390b4-e871-4f25-90ea-c71a44a34e89"
      },
      "source": [
        "more(2)"
      ],
      "execution_count": 9,
      "outputs": [
        {
          "output_type": "stream",
          "name": "stdout",
          "text": [
            "This was passed in: 2\n"
          ]
        },
        {
          "output_type": "execute_result",
          "data": {
            "text/plain": [
              "3"
            ]
          },
          "metadata": {},
          "execution_count": 9
        }
      ]
    },
    {
      "cell_type": "code",
      "metadata": {
        "colab": {
          "base_uri": "https://localhost:8080/"
        },
        "id": "UbvGWevSC1dn",
        "outputId": "05311edb-1c50-4aef-aab3-11177712be46"
      },
      "source": [
        "result = more(2)"
      ],
      "execution_count": 10,
      "outputs": [
        {
          "output_type": "stream",
          "name": "stdout",
          "text": [
            "This was passed in: 2\n"
          ]
        }
      ]
    },
    {
      "cell_type": "code",
      "metadata": {
        "colab": {
          "base_uri": "https://localhost:8080/"
        },
        "id": "o_jDZaEkC8fY",
        "outputId": "47cc703c-bb54-41b0-d40a-7926139ed9d2"
      },
      "source": [
        "type(result)"
      ],
      "execution_count": 11,
      "outputs": [
        {
          "output_type": "execute_result",
          "data": {
            "text/plain": [
              "int"
            ]
          },
          "metadata": {},
          "execution_count": 11
        }
      ]
    },
    {
      "cell_type": "code",
      "metadata": {
        "colab": {
          "base_uri": "https://localhost:8080/"
        },
        "id": "hJHsii6_C-ch",
        "outputId": "d63fc7ef-8478-4496-df54-96c5f290037f"
      },
      "source": [
        "result"
      ],
      "execution_count": 12,
      "outputs": [
        {
          "output_type": "execute_result",
          "data": {
            "text/plain": [
              "3"
            ]
          },
          "metadata": {},
          "execution_count": 12
        }
      ]
    },
    {
      "cell_type": "code",
      "metadata": {
        "id": "bBDe7zR1C_kJ"
      },
      "source": [
        "def add(x, y):\n",
        "    return x+y"
      ],
      "execution_count": 13,
      "outputs": []
    },
    {
      "cell_type": "code",
      "metadata": {
        "colab": {
          "base_uri": "https://localhost:8080/"
        },
        "id": "RhuQhBmEDL8F",
        "outputId": "67fdf5ee-d017-4a90-88d8-c7276b8ebfbe"
      },
      "source": [
        "add(1,1)"
      ],
      "execution_count": 14,
      "outputs": [
        {
          "output_type": "execute_result",
          "data": {
            "text/plain": [
              "2"
            ]
          },
          "metadata": {},
          "execution_count": 14
        }
      ]
    },
    {
      "cell_type": "code",
      "metadata": {
        "colab": {
          "base_uri": "https://localhost:8080/"
        },
        "id": "XT_qTvEZDNGc",
        "outputId": "ff86f079-3085-4841-9f53-24daf129c41c"
      },
      "source": [
        "add(2,2)"
      ],
      "execution_count": 15,
      "outputs": [
        {
          "output_type": "execute_result",
          "data": {
            "text/plain": [
              "4"
            ]
          },
          "metadata": {},
          "execution_count": 15
        }
      ]
    },
    {
      "cell_type": "markdown",
      "metadata": {
        "id": "hj_0fw5xD7hr"
      },
      "source": [
        "#### Python Functions Positional Arguments"
      ]
    },
    {
      "cell_type": "code",
      "metadata": {
        "id": "RSpSZpGWDP30"
      },
      "source": [
        "def add_more(x,y):\n",
        "    print(f\"This variable {x} is greater than the other variable {y}\")\n",
        "    return x+y"
      ],
      "execution_count": 16,
      "outputs": []
    },
    {
      "cell_type": "code",
      "metadata": {
        "colab": {
          "base_uri": "https://localhost:8080/"
        },
        "id": "X1cQ45eKDkei",
        "outputId": "8b3efe48-cee9-41ff-daaf-648369645322"
      },
      "source": [
        "add_more(2,1)"
      ],
      "execution_count": 18,
      "outputs": [
        {
          "output_type": "stream",
          "name": "stdout",
          "text": [
            "This variable 2 is greater than the other variable 1\n"
          ]
        },
        {
          "output_type": "execute_result",
          "data": {
            "text/plain": [
              "3"
            ]
          },
          "metadata": {},
          "execution_count": 18
        }
      ]
    },
    {
      "cell_type": "code",
      "metadata": {
        "colab": {
          "base_uri": "https://localhost:8080/"
        },
        "id": "scDX9IpMDl-s",
        "outputId": "3b7a77ee-20c4-406e-cc89-35e3b36f4499"
      },
      "source": [
        "x = 2\n",
        "y = 1\n",
        "add_more(x,y)"
      ],
      "execution_count": 20,
      "outputs": [
        {
          "output_type": "stream",
          "name": "stdout",
          "text": [
            "This variable 2 is greater than the other variable 1\n"
          ]
        },
        {
          "output_type": "execute_result",
          "data": {
            "text/plain": [
              "3"
            ]
          },
          "metadata": {},
          "execution_count": 20
        }
      ]
    },
    {
      "cell_type": "code",
      "metadata": {
        "colab": {
          "base_uri": "https://localhost:8080/"
        },
        "id": "Wuqe4I5hDuAJ",
        "outputId": "7498b9da-686b-47ed-d91a-c1528ae9f09e"
      },
      "source": [
        "add_more(y,x)"
      ],
      "execution_count": 21,
      "outputs": [
        {
          "output_type": "stream",
          "name": "stdout",
          "text": [
            "This variable 1 is greater than the other variable 2\n"
          ]
        },
        {
          "output_type": "execute_result",
          "data": {
            "text/plain": [
              "3"
            ]
          },
          "metadata": {},
          "execution_count": 21
        }
      ]
    },
    {
      "cell_type": "code",
      "metadata": {
        "id": "gpn718N2DzCw"
      },
      "source": [
        ""
      ],
      "execution_count": null,
      "outputs": []
    },
    {
      "cell_type": "markdown",
      "metadata": {
        "id": "Sa0FOc3JEBlb"
      },
      "source": [
        "#### Python Keyword Arguments"
      ]
    },
    {
      "cell_type": "code",
      "metadata": {
        "id": "4vXQQdeTEDT8"
      },
      "source": [
        "def add_keyword(x=2, y=1):\n",
        "    print(f\"This variable {x} is greater than the other variable {y}\")\n",
        "    return x+y"
      ],
      "execution_count": 22,
      "outputs": []
    },
    {
      "cell_type": "code",
      "metadata": {
        "colab": {
          "base_uri": "https://localhost:8080/"
        },
        "id": "TtEriRgnEL_i",
        "outputId": "69e63912-6d81-428b-8970-13f9a46ee864"
      },
      "source": [
        "add_keyword()"
      ],
      "execution_count": 23,
      "outputs": [
        {
          "output_type": "stream",
          "name": "stdout",
          "text": [
            "This variable 2 is greater than the other variable 1\n"
          ]
        },
        {
          "output_type": "execute_result",
          "data": {
            "text/plain": [
              "3"
            ]
          },
          "metadata": {},
          "execution_count": 23
        }
      ]
    },
    {
      "cell_type": "code",
      "metadata": {
        "colab": {
          "base_uri": "https://localhost:8080/"
        },
        "id": "dW958GweENzJ",
        "outputId": "1b98eb6c-a39b-4a0f-bfdf-27b9062ee20c"
      },
      "source": [
        "add_keyword(y=1,x=2)"
      ],
      "execution_count": 26,
      "outputs": [
        {
          "output_type": "stream",
          "name": "stdout",
          "text": [
            "This variable 2 is greater than the other variable 1\n"
          ]
        },
        {
          "output_type": "execute_result",
          "data": {
            "text/plain": [
              "3"
            ]
          },
          "metadata": {},
          "execution_count": 26
        }
      ]
    },
    {
      "cell_type": "code",
      "metadata": {
        "id": "e8kDhJgNEV1A"
      },
      "source": [
        ""
      ],
      "execution_count": null,
      "outputs": []
    },
    {
      "cell_type": "markdown",
      "metadata": {
        "id": "Zys40QegErHB"
      },
      "source": [
        "#### Python Decorator and Generators"
      ]
    },
    {
      "cell_type": "markdown",
      "metadata": {
        "id": "KuHBI2BEFmp-"
      },
      "source": [
        "Deals with infinite data streams"
      ]
    },
    {
      "cell_type": "code",
      "metadata": {
        "id": "NBi5TBoSEuJD"
      },
      "source": [
        "def lazy_return_random_attacks():\n",
        "    \"\"\"Yield attacks each time\"\"\"\n",
        "    import random\n",
        "    attacks = {\"kimura\": \"upper_body\",\n",
        "           \"straight_ankle_lock\":\"lower_body\", \n",
        "           \"arm_triangle\":\"upper_body\",\n",
        "            \"keylock\": \"upper_body\",\n",
        "            \"knee_bar\": \"lower_body\"}\n",
        "    while True:\n",
        "        random_attack = random.choices(list(attacks.keys()))\n",
        "        yield random_attack\n",
        "        \n",
        "#Make all attacks appear as Upper Case\n",
        "upper_case_attacks = (attack.pop().upper() for attack in lazy_return_random_attacks())"
      ],
      "execution_count": 27,
      "outputs": []
    },
    {
      "cell_type": "code",
      "metadata": {
        "colab": {
          "base_uri": "https://localhost:8080/",
          "height": 58
        },
        "id": "hQuFEAFoFOqB",
        "outputId": "93445765-75b4-49e8-9a34-3e9cdb842cf3"
      },
      "source": [
        "next(upper_case_attacks)"
      ],
      "execution_count": 35,
      "outputs": [
        {
          "output_type": "execute_result",
          "data": {
            "application/vnd.google.colaboratory.intrinsic+json": {
              "type": "string"
            },
            "text/plain": [
              "'STRAIGHT_ANKLE_LOCK'"
            ]
          },
          "metadata": {},
          "execution_count": 35
        }
      ]
    },
    {
      "cell_type": "markdown",
      "metadata": {
        "id": "PhR2e2A0FW-x"
      },
      "source": [
        "Build a pipeline"
      ]
    },
    {
      "cell_type": "code",
      "metadata": {
        "id": "HSlPEGMiFX-i"
      },
      "source": [
        "## Generator Pipeline:  One expression chains into the next\n",
        "#Make all attacks appear as Upper Case\n",
        "upper_case_attacks = (attack.pop().upper() for attack in lazy_return_random_attacks())\n",
        "#Remove the underscore\n",
        "remove_underscore = (attack.split(\"_\") for attack in upper_case_attacks)\n",
        "#Create a new phrase \n",
        "new_attack_phrase = (\" \".join(phrase) for phrase in remove_underscore)\n",
        "#this is where you can call an AI API\n",
        "#my_api_call = comprehend(new_attack_phrase)"
      ],
      "execution_count": 36,
      "outputs": []
    },
    {
      "cell_type": "code",
      "metadata": {
        "colab": {
          "base_uri": "https://localhost:8080/"
        },
        "id": "Y9zUkPwXFZuf",
        "outputId": "6aedf6d9-79ee-4191-f7e3-b6b446fa0943"
      },
      "source": [
        "for number in range(10):\n",
        "    print(next(new_attack_phrase))"
      ],
      "execution_count": 43,
      "outputs": [
        {
          "output_type": "stream",
          "name": "stdout",
          "text": [
            "STRAIGHT ANKLE LOCK\n",
            "KNEE BAR\n",
            "KEYLOCK\n",
            "KNEE BAR\n",
            "ARM TRIANGLE\n",
            "KEYLOCK\n",
            "KIMURA\n",
            "KNEE BAR\n",
            "KEYLOCK\n",
            "KIMURA\n"
          ]
        }
      ]
    },
    {
      "cell_type": "code",
      "metadata": {
        "id": "v98xPG8pFab5"
      },
      "source": [
        ""
      ],
      "execution_count": null,
      "outputs": []
    },
    {
      "cell_type": "markdown",
      "metadata": {
        "id": "H0KYDpkpF4Bp"
      },
      "source": [
        "#### Decorator"
      ]
    },
    {
      "cell_type": "code",
      "metadata": {
        "id": "pB-utEvHF5Kw"
      },
      "source": [
        "def randomized_speed_attack_decorator(function):\n",
        "    \"\"\"Randomizes the speed of attacks\"\"\"\n",
        "    \n",
        "    import time\n",
        "    import random\n",
        "    \n",
        "    def wrapper_func(*args, **kwargs):\n",
        "        sleep_time = random.randint(0,3)\n",
        "        print(f\"Attacking after {sleep_time} seconds\")\n",
        "        time.sleep(sleep_time)\n",
        "        return function(*args, **kwargs)\n",
        "    return wrapper_func"
      ],
      "execution_count": 44,
      "outputs": []
    },
    {
      "cell_type": "code",
      "metadata": {
        "id": "9uMFuCB7GE1h"
      },
      "source": [
        "@randomized_speed_attack_decorator\n",
        "def lazy_return_random_attacks():\n",
        "    \"\"\"Yield attacks each time\"\"\"\n",
        "    import random\n",
        "    attacks = {\"kimura\": \"upper_body\",\n",
        "           \"straight_ankle_lock\":\"lower_body\", \n",
        "           \"arm_triangle\":\"upper_body\",\n",
        "            \"keylock\": \"upper_body\",\n",
        "            \"knee_bar\": \"lower_body\"}\n",
        "    while True:\n",
        "        random_attack = random.choices(list(attacks.keys()))\n",
        "        yield random_attack"
      ],
      "execution_count": 45,
      "outputs": []
    },
    {
      "cell_type": "code",
      "metadata": {
        "colab": {
          "base_uri": "https://localhost:8080/"
        },
        "id": "eLMPa5pDGMDV",
        "outputId": "3920da2d-9748-4a84-d44e-aac1e7846a8c"
      },
      "source": [
        "for _ in range(5):\n",
        "    print(next(lazy_return_random_attacks()))"
      ],
      "execution_count": 46,
      "outputs": [
        {
          "output_type": "stream",
          "name": "stdout",
          "text": [
            "Attacking after 2 seconds\n",
            "['kimura']\n",
            "Attacking after 2 seconds\n",
            "['kimura']\n",
            "Attacking after 3 seconds\n",
            "['kimura']\n",
            "Attacking after 3 seconds\n",
            "['knee_bar']\n",
            "Attacking after 0 seconds\n",
            "['knee_bar']\n"
          ]
        }
      ]
    }
  ]
}