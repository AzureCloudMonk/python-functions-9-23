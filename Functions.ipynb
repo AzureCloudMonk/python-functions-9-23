{
  "nbformat": 4,
  "nbformat_minor": 0,
  "metadata": {
    "colab": {
      "name": "Functions.ipynb",
      "provenance": [],
      "authorship_tag": "ABX9TyM+tOsICFpbJctEO09+MHFB",
      "include_colab_link": true
    },
    "kernelspec": {
      "name": "python3",
      "display_name": "Python 3"
    },
    "language_info": {
      "name": "python"
    }
  },
  "cells": [
    {
      "cell_type": "markdown",
      "metadata": {
        "id": "view-in-github",
        "colab_type": "text"
      },
      "source": [
        "<a href=\"https://colab.research.google.com/github/noahgift/python-functions-9-23/blob/main/Functions.ipynb\" target=\"_parent\"><img src=\"https://colab.research.google.com/assets/colab-badge.svg\" alt=\"Open In Colab\"/></a>"
      ]
    },
    {
      "cell_type": "markdown",
      "metadata": {
        "id": "R_jlz-fzBWLz"
      },
      "source": [
        "# Functions"
      ]
    },
    {
      "cell_type": "markdown",
      "metadata": {
        "id": "yAGmQXSgBzSs"
      },
      "source": [
        "## Functions Overiew"
      ]
    },
    {
      "cell_type": "markdown",
      "metadata": {
        "id": "7Hs7rEeKBY5O"
      },
      "source": [
        "This is an exploration of Function\n",
        "\n",
        "![functions-overview](https://user-images.githubusercontent.com/58792/132020390-db239278-a9a6-4791-9321-32077d7a5024.png)\n"
      ]
    },
    {
      "cell_type": "markdown",
      "metadata": {
        "id": "qGzTTAUvB2KJ"
      },
      "source": [
        "## Getting started with Functions"
      ]
    },
    {
      "cell_type": "code",
      "metadata": {
        "id": "zFm3AEIXBUHJ"
      },
      "source": [
        ""
      ],
      "execution_count": null,
      "outputs": []
    }
  ]
}